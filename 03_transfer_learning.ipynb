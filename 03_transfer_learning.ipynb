{
 "cells": [
  {
   "cell_type": "markdown",
   "id": "3b31efe0-509d-40bf-a230-e4995ffe4f0d",
   "metadata": {},
   "source": [
    "Transfer Learning"
   ]
  },
  {
   "cell_type": "code",
   "execution_count": 4,
   "id": "7a38d269-5f05-4b14-8040-2a8c396082bb",
   "metadata": {},
   "outputs": [
    {
     "name": "stdout",
     "output_type": "stream",
     "text": [
      "🏥 Phase 3: Transfer Learning with Pre-trained Models\n",
      "============================================================\n",
      "✅ Transfer Learning libraries imported!\n",
      "TensorFlow version: 2.20.0\n"
     ]
    }
   ],
   "source": [
    "# Transfer Learning\n",
    "print(\"🏥 Phase 3: Transfer Learning with Pre-trained Models\")\n",
    "print(\"=\" * 60)\n",
    "\n",
    "import tensorflow as tf\n",
    "from tensorflow import keras\n",
    "from tensorflow.keras import layers\n",
    "from tensorflow.keras.applications import VGG16, ResNet50, EfficientNetB0\n",
    "import numpy as np\n",
    "import matplotlib.pyplot as plt\n",
    "import seaborn as sns\n",
    "import os\n",
    "from sklearn.metrics import classification_report, confusion_matrix\n",
    "\n",
    "# Dataset path\n",
    "dataset_path = \"C:/Users/Admin/Downloads/pneumonia-detection/chest_xray\"\n",
    "\n",
    "print(\"✅ Transfer Learning libraries imported!\")\n",
    "print(f\"TensorFlow version: {tf.__version__}\")"
   ]
  },
  {
   "cell_type": "markdown",
   "id": "cdcfce3a-6053-4ea7-93c2-b5526e1a4ed4",
   "metadata": {},
   "source": [
    "Load and Prepare Data"
   ]
  },
  {
   "cell_type": "code",
   "execution_count": 2,
   "id": "e3c8b15c-1602-4a4e-92cb-a053f6e2c511",
   "metadata": {},
   "outputs": [
    {
     "name": "stdout",
     "output_type": "stream",
     "text": [
      "📁 Loading data for transfer learning...\n",
      "Found 4173 images belonging to 2 classes.\n",
      "Found 1043 images belonging to 2 classes.\n",
      "Found 624 images belonging to 2 classes.\n",
      "✅ Data loaded for transfer learning!\n"
     ]
    }
   ],
   "source": [
    "# Load Data for Transfer Learning\n",
    "print(\"📁 Loading data for transfer learning...\")\n",
    "\n",
    "from tensorflow.keras.preprocessing.image import ImageDataGenerator\n",
    "\n",
    "IMG_HEIGHT = 224\n",
    "IMG_WIDTH = 224\n",
    "BATCH_SIZE = 32\n",
    "\n",
    "# Data generators (same as before)\n",
    "train_datagen = ImageDataGenerator(\n",
    "    rescale=1./255,\n",
    "    rotation_range=20,\n",
    "    width_shift_range=0.2,\n",
    "    height_shift_range=0.2,\n",
    "    horizontal_flip=True,\n",
    "    zoom_range=0.2,\n",
    "    validation_split=0.2\n",
    ")\n",
    "\n",
    "val_test_datagen = ImageDataGenerator(rescale=1./255)\n",
    "\n",
    "# Load data\n",
    "train_dir = os.path.join(dataset_path, 'train')\n",
    "test_dir = os.path.join(dataset_path, 'test')\n",
    "\n",
    "train_generator = train_datagen.flow_from_directory(\n",
    "    train_dir,\n",
    "    target_size=(IMG_HEIGHT, IMG_WIDTH),\n",
    "    batch_size=BATCH_SIZE,\n",
    "    class_mode='binary',\n",
    "    subset='training',\n",
    "    shuffle=True,\n",
    "    seed=42\n",
    ")\n",
    "\n",
    "validation_generator = train_datagen.flow_from_directory(\n",
    "    train_dir,\n",
    "    target_size=(IMG_HEIGHT, IMG_WIDTH),\n",
    "    batch_size=BATCH_SIZE,\n",
    "    class_mode='binary',\n",
    "    subset='validation',\n",
    "    shuffle=True,\n",
    "    seed=42\n",
    ")\n",
    "\n",
    "test_generator = val_test_datagen.flow_from_directory(\n",
    "    test_dir,\n",
    "    target_size=(IMG_HEIGHT, IMG_WIDTH),\n",
    "    batch_size=BATCH_SIZE,\n",
    "    class_mode='binary',\n",
    "    shuffle=False\n",
    ")\n",
    "\n",
    "print(\"✅ Data loaded for transfer learning!\")"
   ]
  },
  {
   "cell_type": "markdown",
   "id": "c6b99107-c832-49b5-9fb9-0fb8ee6c652f",
   "metadata": {},
   "source": [
    "Build VGG16 Transfer Learning Model"
   ]
  },
  {
   "cell_type": "code",
   "execution_count": 3,
   "id": "b49ebb0b-782f-46ba-b755-003e68a3430f",
   "metadata": {},
   "outputs": [
    {
     "name": "stdout",
     "output_type": "stream",
     "text": [
      "🧠 Building VGG16 Transfer Learning Model...\n",
      "Downloading data from https://storage.googleapis.com/tensorflow/keras-applications/vgg16/vgg16_weights_tf_dim_ordering_tf_kernels_notop.h5\n",
      "\u001b[1m58889256/58889256\u001b[0m \u001b[32m━━━━━━━━━━━━━━━━━━━━\u001b[0m\u001b[37m\u001b[0m \u001b[1m12s\u001b[0m 0us/step\n",
      "✅ VGG16 Model Architecture:\n"
     ]
    },
    {
     "data": {
      "text/html": [
       "<pre style=\"white-space:pre;overflow-x:auto;line-height:normal;font-family:Menlo,'DejaVu Sans Mono',consolas,'Courier New',monospace\"><span style=\"font-weight: bold\">Model: \"sequential\"</span>\n",
       "</pre>\n"
      ],
      "text/plain": [
       "\u001b[1mModel: \"sequential\"\u001b[0m\n"
      ]
     },
     "metadata": {},
     "output_type": "display_data"
    },
    {
     "data": {
      "text/html": [
       "<pre style=\"white-space:pre;overflow-x:auto;line-height:normal;font-family:Menlo,'DejaVu Sans Mono',consolas,'Courier New',monospace\">┏━━━━━━━━━━━━━━━━━━━━━━━━━━━━━━━━━━━━━━┳━━━━━━━━━━━━━━━━━━━━━━━━━━━━━┳━━━━━━━━━━━━━━━━━┓\n",
       "┃<span style=\"font-weight: bold\"> Layer (type)                         </span>┃<span style=\"font-weight: bold\"> Output Shape                </span>┃<span style=\"font-weight: bold\">         Param # </span>┃\n",
       "┡━━━━━━━━━━━━━━━━━━━━━━━━━━━━━━━━━━━━━━╇━━━━━━━━━━━━━━━━━━━━━━━━━━━━━╇━━━━━━━━━━━━━━━━━┩\n",
       "│ vgg16 (<span style=\"color: #0087ff; text-decoration-color: #0087ff\">Functional</span>)                   │ (<span style=\"color: #00d7ff; text-decoration-color: #00d7ff\">None</span>, <span style=\"color: #00af00; text-decoration-color: #00af00\">7</span>, <span style=\"color: #00af00; text-decoration-color: #00af00\">7</span>, <span style=\"color: #00af00; text-decoration-color: #00af00\">512</span>)           │      <span style=\"color: #00af00; text-decoration-color: #00af00\">14,714,688</span> │\n",
       "├──────────────────────────────────────┼─────────────────────────────┼─────────────────┤\n",
       "│ global_average_pooling2d             │ (<span style=\"color: #00d7ff; text-decoration-color: #00d7ff\">None</span>, <span style=\"color: #00af00; text-decoration-color: #00af00\">512</span>)                 │               <span style=\"color: #00af00; text-decoration-color: #00af00\">0</span> │\n",
       "│ (<span style=\"color: #0087ff; text-decoration-color: #0087ff\">GlobalAveragePooling2D</span>)             │                             │                 │\n",
       "├──────────────────────────────────────┼─────────────────────────────┼─────────────────┤\n",
       "│ dropout (<span style=\"color: #0087ff; text-decoration-color: #0087ff\">Dropout</span>)                    │ (<span style=\"color: #00d7ff; text-decoration-color: #00d7ff\">None</span>, <span style=\"color: #00af00; text-decoration-color: #00af00\">512</span>)                 │               <span style=\"color: #00af00; text-decoration-color: #00af00\">0</span> │\n",
       "├──────────────────────────────────────┼─────────────────────────────┼─────────────────┤\n",
       "│ dense (<span style=\"color: #0087ff; text-decoration-color: #0087ff\">Dense</span>)                        │ (<span style=\"color: #00d7ff; text-decoration-color: #00d7ff\">None</span>, <span style=\"color: #00af00; text-decoration-color: #00af00\">256</span>)                 │         <span style=\"color: #00af00; text-decoration-color: #00af00\">131,328</span> │\n",
       "├──────────────────────────────────────┼─────────────────────────────┼─────────────────┤\n",
       "│ dropout_1 (<span style=\"color: #0087ff; text-decoration-color: #0087ff\">Dropout</span>)                  │ (<span style=\"color: #00d7ff; text-decoration-color: #00d7ff\">None</span>, <span style=\"color: #00af00; text-decoration-color: #00af00\">256</span>)                 │               <span style=\"color: #00af00; text-decoration-color: #00af00\">0</span> │\n",
       "├──────────────────────────────────────┼─────────────────────────────┼─────────────────┤\n",
       "│ dense_1 (<span style=\"color: #0087ff; text-decoration-color: #0087ff\">Dense</span>)                      │ (<span style=\"color: #00d7ff; text-decoration-color: #00d7ff\">None</span>, <span style=\"color: #00af00; text-decoration-color: #00af00\">1</span>)                   │             <span style=\"color: #00af00; text-decoration-color: #00af00\">257</span> │\n",
       "└──────────────────────────────────────┴─────────────────────────────┴─────────────────┘\n",
       "</pre>\n"
      ],
      "text/plain": [
       "┏━━━━━━━━━━━━━━━━━━━━━━━━━━━━━━━━━━━━━━┳━━━━━━━━━━━━━━━━━━━━━━━━━━━━━┳━━━━━━━━━━━━━━━━━┓\n",
       "┃\u001b[1m \u001b[0m\u001b[1mLayer (type)                        \u001b[0m\u001b[1m \u001b[0m┃\u001b[1m \u001b[0m\u001b[1mOutput Shape               \u001b[0m\u001b[1m \u001b[0m┃\u001b[1m \u001b[0m\u001b[1m        Param #\u001b[0m\u001b[1m \u001b[0m┃\n",
       "┡━━━━━━━━━━━━━━━━━━━━━━━━━━━━━━━━━━━━━━╇━━━━━━━━━━━━━━━━━━━━━━━━━━━━━╇━━━━━━━━━━━━━━━━━┩\n",
       "│ vgg16 (\u001b[38;5;33mFunctional\u001b[0m)                   │ (\u001b[38;5;45mNone\u001b[0m, \u001b[38;5;34m7\u001b[0m, \u001b[38;5;34m7\u001b[0m, \u001b[38;5;34m512\u001b[0m)           │      \u001b[38;5;34m14,714,688\u001b[0m │\n",
       "├──────────────────────────────────────┼─────────────────────────────┼─────────────────┤\n",
       "│ global_average_pooling2d             │ (\u001b[38;5;45mNone\u001b[0m, \u001b[38;5;34m512\u001b[0m)                 │               \u001b[38;5;34m0\u001b[0m │\n",
       "│ (\u001b[38;5;33mGlobalAveragePooling2D\u001b[0m)             │                             │                 │\n",
       "├──────────────────────────────────────┼─────────────────────────────┼─────────────────┤\n",
       "│ dropout (\u001b[38;5;33mDropout\u001b[0m)                    │ (\u001b[38;5;45mNone\u001b[0m, \u001b[38;5;34m512\u001b[0m)                 │               \u001b[38;5;34m0\u001b[0m │\n",
       "├──────────────────────────────────────┼─────────────────────────────┼─────────────────┤\n",
       "│ dense (\u001b[38;5;33mDense\u001b[0m)                        │ (\u001b[38;5;45mNone\u001b[0m, \u001b[38;5;34m256\u001b[0m)                 │         \u001b[38;5;34m131,328\u001b[0m │\n",
       "├──────────────────────────────────────┼─────────────────────────────┼─────────────────┤\n",
       "│ dropout_1 (\u001b[38;5;33mDropout\u001b[0m)                  │ (\u001b[38;5;45mNone\u001b[0m, \u001b[38;5;34m256\u001b[0m)                 │               \u001b[38;5;34m0\u001b[0m │\n",
       "├──────────────────────────────────────┼─────────────────────────────┼─────────────────┤\n",
       "│ dense_1 (\u001b[38;5;33mDense\u001b[0m)                      │ (\u001b[38;5;45mNone\u001b[0m, \u001b[38;5;34m1\u001b[0m)                   │             \u001b[38;5;34m257\u001b[0m │\n",
       "└──────────────────────────────────────┴─────────────────────────────┴─────────────────┘\n"
      ]
     },
     "metadata": {},
     "output_type": "display_data"
    },
    {
     "data": {
      "text/html": [
       "<pre style=\"white-space:pre;overflow-x:auto;line-height:normal;font-family:Menlo,'DejaVu Sans Mono',consolas,'Courier New',monospace\"><span style=\"font-weight: bold\"> Total params: </span><span style=\"color: #00af00; text-decoration-color: #00af00\">14,846,273</span> (56.63 MB)\n",
       "</pre>\n"
      ],
      "text/plain": [
       "\u001b[1m Total params: \u001b[0m\u001b[38;5;34m14,846,273\u001b[0m (56.63 MB)\n"
      ]
     },
     "metadata": {},
     "output_type": "display_data"
    },
    {
     "data": {
      "text/html": [
       "<pre style=\"white-space:pre;overflow-x:auto;line-height:normal;font-family:Menlo,'DejaVu Sans Mono',consolas,'Courier New',monospace\"><span style=\"font-weight: bold\"> Trainable params: </span><span style=\"color: #00af00; text-decoration-color: #00af00\">131,585</span> (514.00 KB)\n",
       "</pre>\n"
      ],
      "text/plain": [
       "\u001b[1m Trainable params: \u001b[0m\u001b[38;5;34m131,585\u001b[0m (514.00 KB)\n"
      ]
     },
     "metadata": {},
     "output_type": "display_data"
    },
    {
     "data": {
      "text/html": [
       "<pre style=\"white-space:pre;overflow-x:auto;line-height:normal;font-family:Menlo,'DejaVu Sans Mono',consolas,'Courier New',monospace\"><span style=\"font-weight: bold\"> Non-trainable params: </span><span style=\"color: #00af00; text-decoration-color: #00af00\">14,714,688</span> (56.13 MB)\n",
       "</pre>\n"
      ],
      "text/plain": [
       "\u001b[1m Non-trainable params: \u001b[0m\u001b[38;5;34m14,714,688\u001b[0m (56.13 MB)\n"
      ]
     },
     "metadata": {},
     "output_type": "display_data"
    },
    {
     "name": "stdout",
     "output_type": "stream",
     "text": [
      "\n",
      "🎯 VGG16 Model Features:\n",
      "   - Pre-trained on ImageNet (1.4M images)\n",
      "   - Frozen convolutional layers\n",
      "   - Custom classifier for pneumonia detection\n",
      "   - Focus on improving recall for medical safety\n"
     ]
    }
   ],
   "source": [
    "# Build VGG16 Transfer Learning Model\n",
    "print(\"🧠 Building VGG16 Transfer Learning Model...\")\n",
    "\n",
    "def create_vgg16_model():\n",
    "    # Load pre-trained VGG16 without top layers\n",
    "    base_model = VGG16(\n",
    "        weights='imagenet',\n",
    "        include_top=False,\n",
    "        input_shape=(IMG_HEIGHT, IMG_WIDTH, 3)\n",
    "    )\n",
    "    \n",
    "    # Freeze base model layers\n",
    "    base_model.trainable = False\n",
    "    \n",
    "    # Add custom classifier\n",
    "    model = keras.Sequential([\n",
    "        base_model,\n",
    "        layers.GlobalAveragePooling2D(),\n",
    "        layers.Dropout(0.5),\n",
    "        layers.Dense(256, activation='relu'),\n",
    "        layers.Dropout(0.3),\n",
    "        layers.Dense(1, activation='sigmoid')\n",
    "    ])\n",
    "    \n",
    "    return model\n",
    "\n",
    "# Create VGG16 model\n",
    "vgg16_model = create_vgg16_model()\n",
    "\n",
    "print(\"✅ VGG16 Model Architecture:\")\n",
    "vgg16_model.summary()\n",
    "\n",
    "# Compile with medical focus on recall\n",
    "vgg16_model.compile(\n",
    "    optimizer=keras.optimizers.Adam(learning_rate=0.0001),\n",
    "    loss='binary_crossentropy',\n",
    "    metrics=['accuracy', 'precision', 'recall']\n",
    ")\n",
    "\n",
    "print(\"\\n🎯 VGG16 Model Features:\")\n",
    "print(\"   - Pre-trained on ImageNet (1.4M images)\")\n",
    "print(\"   - Frozen convolutional layers\")\n",
    "print(\"   - Custom classifier for pneumonia detection\")\n",
    "print(\"   - Focus on improving recall for medical safety\")"
   ]
  },
  {
   "cell_type": "markdown",
   "id": "8ba18775-8c79-4ec5-8db3-b838e4111f46",
   "metadata": {},
   "source": [
    "Train VGG16 Model"
   ]
  },
  {
   "cell_type": "code",
   "execution_count": 4,
   "id": "35ce4633-0b44-4880-8fe7-836aeccd09d6",
   "metadata": {},
   "outputs": [
    {
     "name": "stdout",
     "output_type": "stream",
     "text": [
      "🏋️ Training VGG16 Transfer Learning Model...\n",
      "⚖️  Using class weights: {0: np.float64(1.9445479962721341), 1: np.float64(0.6730645161290323)}\n"
     ]
    },
    {
     "name": "stderr",
     "output_type": "stream",
     "text": [
      "C:\\Users\\Admin\\anaconda3\\Lib\\site-packages\\keras\\src\\trainers\\data_adapters\\py_dataset_adapter.py:121: UserWarning: Your `PyDataset` class should call `super().__init__(**kwargs)` in its constructor. `**kwargs` can include `workers`, `use_multiprocessing`, `max_queue_size`. Do not pass these arguments to `fit()`, as they will be ignored.\n",
      "  self._warn_if_super_not_called()\n"
     ]
    },
    {
     "name": "stdout",
     "output_type": "stream",
     "text": [
      "Epoch 1/10\n",
      "\u001b[1m130/130\u001b[0m \u001b[32m━━━━━━━━━━━━━━━━━━━━\u001b[0m\u001b[37m\u001b[0m \u001b[1m875s\u001b[0m 6s/step - accuracy: 0.5438 - loss: 0.7397 - precision: 0.7650 - recall: 0.5567 - val_accuracy: 0.2979 - val_loss: 0.7633 - val_precision: 1.0000 - val_recall: 0.0577\n",
      "Epoch 2/10\n",
      "\u001b[1m  1/130\u001b[0m \u001b[37m━━━━━━━━━━━━━━━━━━━━\u001b[0m \u001b[1m11:06\u001b[0m 5s/step - accuracy: 0.5312 - loss: 0.5706 - precision: 0.8571 - recall: 0.4800"
     ]
    },
    {
     "name": "stderr",
     "output_type": "stream",
     "text": [
      "C:\\Users\\Admin\\anaconda3\\Lib\\site-packages\\keras\\src\\trainers\\epoch_iterator.py:116: UserWarning: Your input ran out of data; interrupting training. Make sure that your dataset or generator can generate at least `steps_per_epoch * epochs` batches. You may need to use the `.repeat()` function when building your dataset.\n",
      "  self._interrupted_warning()\n"
     ]
    },
    {
     "name": "stdout",
     "output_type": "stream",
     "text": [
      "\u001b[1m130/130\u001b[0m \u001b[32m━━━━━━━━━━━━━━━━━━━━\u001b[0m\u001b[37m\u001b[0m \u001b[1m174s\u001b[0m 1s/step - accuracy: 0.5312 - loss: 0.5706 - precision: 0.8571 - recall: 0.4800 - val_accuracy: 0.2920 - val_loss: 0.7604 - val_precision: 1.0000 - val_recall: 0.0498\n",
      "Epoch 3/10\n",
      "\u001b[1m130/130\u001b[0m \u001b[32m━━━━━━━━━━━━━━━━━━━━\u001b[0m\u001b[37m\u001b[0m \u001b[1m808s\u001b[0m 6s/step - accuracy: 0.6735 - loss: 0.6233 - precision: 0.8574 - recall: 0.6715 - val_accuracy: 0.5449 - val_loss: 0.6846 - val_precision: 1.0000 - val_recall: 0.3876\n",
      "Epoch 4/10\n",
      "\u001b[1m130/130\u001b[0m \u001b[32m━━━━━━━━━━━━━━━━━━━━\u001b[0m\u001b[37m\u001b[0m \u001b[1m165s\u001b[0m 1s/step - accuracy: 0.5938 - loss: 0.5252 - precision: 1.0000 - recall: 0.5357 - val_accuracy: 0.5430 - val_loss: 0.6861 - val_precision: 1.0000 - val_recall: 0.3842\n",
      "Epoch 5/10\n",
      "\u001b[1m130/130\u001b[0m \u001b[32m━━━━━━━━━━━━━━━━━━━━\u001b[0m\u001b[37m\u001b[0m \u001b[1m803s\u001b[0m 6s/step - accuracy: 0.7291 - loss: 0.5635 - precision: 0.8921 - recall: 0.7228 - val_accuracy: 0.6670 - val_loss: 0.6153 - val_precision: 1.0000 - val_recall: 0.5513\n",
      "Epoch 6/10\n",
      "\u001b[1m130/130\u001b[0m \u001b[32m━━━━━━━━━━━━━━━━━━━━\u001b[0m\u001b[37m\u001b[0m \u001b[1m164s\u001b[0m 1s/step - accuracy: 0.7500 - loss: 0.7164 - precision: 0.7778 - recall: 0.9130 - val_accuracy: 0.6680 - val_loss: 0.6122 - val_precision: 1.0000 - val_recall: 0.5538\n",
      "Epoch 7/10\n",
      "\u001b[1m130/130\u001b[0m \u001b[32m━━━━━━━━━━━━━━━━━━━━\u001b[0m\u001b[37m\u001b[0m \u001b[1m807s\u001b[0m 6s/step - accuracy: 0.7597 - loss: 0.5183 - precision: 0.9123 - recall: 0.7482 - val_accuracy: 0.7402 - val_loss: 0.5327 - val_precision: 0.9921 - val_recall: 0.6566\n",
      "Epoch 8/10\n",
      "\u001b[1m130/130\u001b[0m \u001b[32m━━━━━━━━━━━━━━━━━━━━\u001b[0m\u001b[37m\u001b[0m \u001b[1m162s\u001b[0m 1s/step - accuracy: 0.8438 - loss: 0.3759 - precision: 1.0000 - recall: 0.8077 - val_accuracy: 0.7549 - val_loss: 0.5270 - val_precision: 0.9942 - val_recall: 0.6754\n",
      "Epoch 9/10\n",
      "\u001b[1m130/130\u001b[0m \u001b[32m━━━━━━━━━━━━━━━━━━━━\u001b[0m\u001b[37m\u001b[0m \u001b[1m802s\u001b[0m 6s/step - accuracy: 0.7885 - loss: 0.4707 - precision: 0.9250 - recall: 0.7783 - val_accuracy: 0.7695 - val_loss: 0.4925 - val_precision: 0.9926 - val_recall: 0.6971\n",
      "Epoch 10/10\n",
      "\u001b[1m130/130\u001b[0m \u001b[32m━━━━━━━━━━━━━━━━━━━━\u001b[0m\u001b[37m\u001b[0m \u001b[1m163s\u001b[0m 1s/step - accuracy: 0.7500 - loss: 0.5744 - precision: 0.8636 - recall: 0.7917 - val_accuracy: 0.7734 - val_loss: 0.4819 - val_precision: 0.9944 - val_recall: 0.6983\n",
      "✅ VGG16 training completed!\n"
     ]
    }
   ],
   "source": [
    "# Cell 4: Train VGG16 Model\n",
    "print(\"🏋️ Training VGG16 Transfer Learning Model...\")\n",
    "\n",
    "# Calculate steps\n",
    "train_steps = train_generator.samples // BATCH_SIZE\n",
    "val_steps = validation_generator.samples // BATCH_SIZE\n",
    "\n",
    "# Class weights (from previous phase)\n",
    "from sklearn.utils import class_weight\n",
    "class_weights = class_weight.compute_class_weight(\n",
    "    'balanced',\n",
    "    classes=np.unique(train_generator.classes),\n",
    "    y=train_generator.classes\n",
    ")\n",
    "class_weights_dict = {i: weight for i, weight in enumerate(class_weights)}\n",
    "\n",
    "print(f\"⚖️  Using class weights: {class_weights_dict}\")\n",
    "\n",
    "# Train VGG16\n",
    "vgg16_history = vgg16_model.fit(\n",
    "    train_generator,\n",
    "    steps_per_epoch=train_steps,\n",
    "    epochs=10,\n",
    "    validation_data=validation_generator,\n",
    "    validation_steps=val_steps,\n",
    "    class_weight=class_weights_dict,\n",
    "    verbose=1\n",
    ")\n",
    "\n",
    "print(\"✅ VGG16 training completed!\")"
   ]
  },
  {
   "cell_type": "markdown",
   "id": "8c47a25d-6eb8-4821-9bb9-5f8fd7f8b573",
   "metadata": {},
   "source": [
    "Evaluate VGG16 Model"
   ]
  },
  {
   "cell_type": "code",
   "execution_count": 5,
   "id": "99016856-470d-48e2-84e9-c225180c711b",
   "metadata": {},
   "outputs": [
    {
     "name": "stdout",
     "output_type": "stream",
     "text": [
      "🧪 Evaluating VGG16 on test set...\n",
      "\u001b[1m20/20\u001b[0m \u001b[32m━━━━━━━━━━━━━━━━━━━━\u001b[0m\u001b[37m\u001b[0m \u001b[1m105s\u001b[0m 5s/step - accuracy: 0.6426 - loss: 0.6133 - precision: 0.9514 - recall: 0.4513\n",
      "🎯 VGG16 Test Set Performance:\n",
      "   Loss: 0.6133\n",
      "   Accuracy: 0.6426 (64.26%)\n",
      "   Precision: 0.9514\n",
      "   Recall: 0.4513\n",
      "   F1-Score: 0.6122\n",
      "\n",
      "📊 Comparison with Basic CNN:\n",
      "   Accuracy:  64.3% (VGG16) vs 73.2% (CNN)\n",
      "   Recall:    45.1% (VGG16) vs 58.5% (CNN)\n",
      "   Precision: 95.1% (VGG16) vs 97.9% (CNN)\n"
     ]
    }
   ],
   "source": [
    "#Evaluate VGG16 Model\n",
    "print(\"🧪 Evaluating VGG16 on test set...\")\n",
    "\n",
    "# Evaluate on test data\n",
    "vgg16_test_loss, vgg16_test_accuracy, vgg16_test_precision, vgg16_test_recall = vgg16_model.evaluate(test_generator)\n",
    "\n",
    "print(f\"🎯 VGG16 Test Set Performance:\")\n",
    "print(f\"   Loss: {vgg16_test_loss:.4f}\")\n",
    "print(f\"   Accuracy: {vgg16_test_accuracy:.4f} ({vgg16_test_accuracy*100:.2f}%)\")\n",
    "print(f\"   Precision: {vgg16_test_precision:.4f}\")\n",
    "print(f\"   Recall: {vgg16_test_recall:.4f}\")\n",
    "\n",
    "# Calculate F1-score\n",
    "vgg16_test_f1 = 2 * (vgg16_test_precision * vgg16_test_recall) / (vgg16_test_precision + vgg16_test_recall)\n",
    "print(f\"   F1-Score: {vgg16_test_f1:.4f}\")\n",
    "\n",
    "print(\"\\n📊 Comparison with Basic CNN:\")\n",
    "print(f\"   Accuracy:  {vgg16_test_accuracy*100:.1f}% (VGG16) vs 73.2% (CNN)\")\n",
    "print(f\"   Recall:    {vgg16_test_recall*100:.1f}% (VGG16) vs 58.5% (CNN)\")\n",
    "print(f\"   Precision: {vgg16_test_precision*100:.1f}% (VGG16) vs 97.9% (CNN)\")"
   ]
  },
  {
   "cell_type": "markdown",
   "id": "806db1e7-7683-48e1-970d-c0a965a9060b",
   "metadata": {},
   "source": [
    "Build ResNet50 Model "
   ]
  },
  {
   "cell_type": "code",
   "execution_count": 5,
   "id": "8652feb3-54bc-4e2d-b7be-4f98e36807cf",
   "metadata": {},
   "outputs": [
    {
     "name": "stdout",
     "output_type": "stream",
     "text": [
      "🧠 Building ResNet50 Transfer Learning Model...\n",
      "✅ ResNet50 Model Architecture:\n"
     ]
    },
    {
     "data": {
      "text/html": [
       "<pre style=\"white-space:pre;overflow-x:auto;line-height:normal;font-family:Menlo,'DejaVu Sans Mono',consolas,'Courier New',monospace\"><span style=\"font-weight: bold\">Model: \"sequential\"</span>\n",
       "</pre>\n"
      ],
      "text/plain": [
       "\u001b[1mModel: \"sequential\"\u001b[0m\n"
      ]
     },
     "metadata": {},
     "output_type": "display_data"
    },
    {
     "data": {
      "text/html": [
       "<pre style=\"white-space:pre;overflow-x:auto;line-height:normal;font-family:Menlo,'DejaVu Sans Mono',consolas,'Courier New',monospace\">┏━━━━━━━━━━━━━━━━━━━━━━━━━━━━━━━━━━━━━━┳━━━━━━━━━━━━━━━━━━━━━━━━━━━━━┳━━━━━━━━━━━━━━━━━┓\n",
       "┃<span style=\"font-weight: bold\"> Layer (type)                         </span>┃<span style=\"font-weight: bold\"> Output Shape                </span>┃<span style=\"font-weight: bold\">         Param # </span>┃\n",
       "┡━━━━━━━━━━━━━━━━━━━━━━━━━━━━━━━━━━━━━━╇━━━━━━━━━━━━━━━━━━━━━━━━━━━━━╇━━━━━━━━━━━━━━━━━┩\n",
       "│ resnet50 (<span style=\"color: #0087ff; text-decoration-color: #0087ff\">Functional</span>)                │ (<span style=\"color: #00d7ff; text-decoration-color: #00d7ff\">None</span>, <span style=\"color: #00af00; text-decoration-color: #00af00\">7</span>, <span style=\"color: #00af00; text-decoration-color: #00af00\">7</span>, <span style=\"color: #00af00; text-decoration-color: #00af00\">2048</span>)          │      <span style=\"color: #00af00; text-decoration-color: #00af00\">23,587,712</span> │\n",
       "├──────────────────────────────────────┼─────────────────────────────┼─────────────────┤\n",
       "│ global_average_pooling2d             │ (<span style=\"color: #00d7ff; text-decoration-color: #00d7ff\">None</span>, <span style=\"color: #00af00; text-decoration-color: #00af00\">2048</span>)                │               <span style=\"color: #00af00; text-decoration-color: #00af00\">0</span> │\n",
       "│ (<span style=\"color: #0087ff; text-decoration-color: #0087ff\">GlobalAveragePooling2D</span>)             │                             │                 │\n",
       "├──────────────────────────────────────┼─────────────────────────────┼─────────────────┤\n",
       "│ dropout (<span style=\"color: #0087ff; text-decoration-color: #0087ff\">Dropout</span>)                    │ (<span style=\"color: #00d7ff; text-decoration-color: #00d7ff\">None</span>, <span style=\"color: #00af00; text-decoration-color: #00af00\">2048</span>)                │               <span style=\"color: #00af00; text-decoration-color: #00af00\">0</span> │\n",
       "├──────────────────────────────────────┼─────────────────────────────┼─────────────────┤\n",
       "│ dense (<span style=\"color: #0087ff; text-decoration-color: #0087ff\">Dense</span>)                        │ (<span style=\"color: #00d7ff; text-decoration-color: #00d7ff\">None</span>, <span style=\"color: #00af00; text-decoration-color: #00af00\">512</span>)                 │       <span style=\"color: #00af00; text-decoration-color: #00af00\">1,049,088</span> │\n",
       "├──────────────────────────────────────┼─────────────────────────────┼─────────────────┤\n",
       "│ dropout_1 (<span style=\"color: #0087ff; text-decoration-color: #0087ff\">Dropout</span>)                  │ (<span style=\"color: #00d7ff; text-decoration-color: #00d7ff\">None</span>, <span style=\"color: #00af00; text-decoration-color: #00af00\">512</span>)                 │               <span style=\"color: #00af00; text-decoration-color: #00af00\">0</span> │\n",
       "├──────────────────────────────────────┼─────────────────────────────┼─────────────────┤\n",
       "│ dense_1 (<span style=\"color: #0087ff; text-decoration-color: #0087ff\">Dense</span>)                      │ (<span style=\"color: #00d7ff; text-decoration-color: #00d7ff\">None</span>, <span style=\"color: #00af00; text-decoration-color: #00af00\">1</span>)                   │             <span style=\"color: #00af00; text-decoration-color: #00af00\">513</span> │\n",
       "└──────────────────────────────────────┴─────────────────────────────┴─────────────────┘\n",
       "</pre>\n"
      ],
      "text/plain": [
       "┏━━━━━━━━━━━━━━━━━━━━━━━━━━━━━━━━━━━━━━┳━━━━━━━━━━━━━━━━━━━━━━━━━━━━━┳━━━━━━━━━━━━━━━━━┓\n",
       "┃\u001b[1m \u001b[0m\u001b[1mLayer (type)                        \u001b[0m\u001b[1m \u001b[0m┃\u001b[1m \u001b[0m\u001b[1mOutput Shape               \u001b[0m\u001b[1m \u001b[0m┃\u001b[1m \u001b[0m\u001b[1m        Param #\u001b[0m\u001b[1m \u001b[0m┃\n",
       "┡━━━━━━━━━━━━━━━━━━━━━━━━━━━━━━━━━━━━━━╇━━━━━━━━━━━━━━━━━━━━━━━━━━━━━╇━━━━━━━━━━━━━━━━━┩\n",
       "│ resnet50 (\u001b[38;5;33mFunctional\u001b[0m)                │ (\u001b[38;5;45mNone\u001b[0m, \u001b[38;5;34m7\u001b[0m, \u001b[38;5;34m7\u001b[0m, \u001b[38;5;34m2048\u001b[0m)          │      \u001b[38;5;34m23,587,712\u001b[0m │\n",
       "├──────────────────────────────────────┼─────────────────────────────┼─────────────────┤\n",
       "│ global_average_pooling2d             │ (\u001b[38;5;45mNone\u001b[0m, \u001b[38;5;34m2048\u001b[0m)                │               \u001b[38;5;34m0\u001b[0m │\n",
       "│ (\u001b[38;5;33mGlobalAveragePooling2D\u001b[0m)             │                             │                 │\n",
       "├──────────────────────────────────────┼─────────────────────────────┼─────────────────┤\n",
       "│ dropout (\u001b[38;5;33mDropout\u001b[0m)                    │ (\u001b[38;5;45mNone\u001b[0m, \u001b[38;5;34m2048\u001b[0m)                │               \u001b[38;5;34m0\u001b[0m │\n",
       "├──────────────────────────────────────┼─────────────────────────────┼─────────────────┤\n",
       "│ dense (\u001b[38;5;33mDense\u001b[0m)                        │ (\u001b[38;5;45mNone\u001b[0m, \u001b[38;5;34m512\u001b[0m)                 │       \u001b[38;5;34m1,049,088\u001b[0m │\n",
       "├──────────────────────────────────────┼─────────────────────────────┼─────────────────┤\n",
       "│ dropout_1 (\u001b[38;5;33mDropout\u001b[0m)                  │ (\u001b[38;5;45mNone\u001b[0m, \u001b[38;5;34m512\u001b[0m)                 │               \u001b[38;5;34m0\u001b[0m │\n",
       "├──────────────────────────────────────┼─────────────────────────────┼─────────────────┤\n",
       "│ dense_1 (\u001b[38;5;33mDense\u001b[0m)                      │ (\u001b[38;5;45mNone\u001b[0m, \u001b[38;5;34m1\u001b[0m)                   │             \u001b[38;5;34m513\u001b[0m │\n",
       "└──────────────────────────────────────┴─────────────────────────────┴─────────────────┘\n"
      ]
     },
     "metadata": {},
     "output_type": "display_data"
    },
    {
     "data": {
      "text/html": [
       "<pre style=\"white-space:pre;overflow-x:auto;line-height:normal;font-family:Menlo,'DejaVu Sans Mono',consolas,'Courier New',monospace\"><span style=\"font-weight: bold\"> Total params: </span><span style=\"color: #00af00; text-decoration-color: #00af00\">24,637,313</span> (93.98 MB)\n",
       "</pre>\n"
      ],
      "text/plain": [
       "\u001b[1m Total params: \u001b[0m\u001b[38;5;34m24,637,313\u001b[0m (93.98 MB)\n"
      ]
     },
     "metadata": {},
     "output_type": "display_data"
    },
    {
     "data": {
      "text/html": [
       "<pre style=\"white-space:pre;overflow-x:auto;line-height:normal;font-family:Menlo,'DejaVu Sans Mono',consolas,'Courier New',monospace\"><span style=\"font-weight: bold\"> Trainable params: </span><span style=\"color: #00af00; text-decoration-color: #00af00\">1,049,601</span> (4.00 MB)\n",
       "</pre>\n"
      ],
      "text/plain": [
       "\u001b[1m Trainable params: \u001b[0m\u001b[38;5;34m1,049,601\u001b[0m (4.00 MB)\n"
      ]
     },
     "metadata": {},
     "output_type": "display_data"
    },
    {
     "data": {
      "text/html": [
       "<pre style=\"white-space:pre;overflow-x:auto;line-height:normal;font-family:Menlo,'DejaVu Sans Mono',consolas,'Courier New',monospace\"><span style=\"font-weight: bold\"> Non-trainable params: </span><span style=\"color: #00af00; text-decoration-color: #00af00\">23,587,712</span> (89.98 MB)\n",
       "</pre>\n"
      ],
      "text/plain": [
       "\u001b[1m Non-trainable params: \u001b[0m\u001b[38;5;34m23,587,712\u001b[0m (89.98 MB)\n"
      ]
     },
     "metadata": {},
     "output_type": "display_data"
    },
    {
     "name": "stdout",
     "output_type": "stream",
     "text": [
      "\n",
      "🎯 ResNet50 Advantages:\n",
      "   - Deeper architecture (50 layers vs VGG16's 16)\n",
      "   - Better feature extraction\n",
      "   - Residual connections prevent vanishing gradients\n"
     ]
    }
   ],
   "source": [
    "# Build ResNet50 Transfer Learning Model\n",
    "print(\"🧠 Building ResNet50 Transfer Learning Model...\")\n",
    "\n",
    "from tensorflow.keras.applications import ResNet50\n",
    "\n",
    "# Define image dimensions (same as before)\n",
    "IMG_HEIGHT = 224\n",
    "IMG_WIDTH = 224\n",
    "\n",
    "def create_resnet50_model():\n",
    "    # Load pre-trained ResNet50\n",
    "    base_model = ResNet50(\n",
    "        weights='imagenet',\n",
    "        include_top=False,\n",
    "        input_shape=(IMG_HEIGHT, IMG_WIDTH, 3)\n",
    "    )\n",
    "    \n",
    "    # Freeze base model\n",
    "    base_model.trainable = False\n",
    "    \n",
    "    # Add custom classifier\n",
    "    model = keras.Sequential([\n",
    "        base_model,\n",
    "        layers.GlobalAveragePooling2D(),\n",
    "        layers.Dropout(0.5),\n",
    "        layers.Dense(512, activation='relu'),\n",
    "        layers.Dropout(0.3),\n",
    "        layers.Dense(1, activation='sigmoid')\n",
    "    ])\n",
    "    \n",
    "    return model\n",
    "\n",
    "# Create ResNet50 model\n",
    "resnet50_model = create_resnet50_model()\n",
    "\n",
    "print(\"✅ ResNet50 Model Architecture:\")\n",
    "resnet50_model.summary()\n",
    "\n",
    "# Compile\n",
    "resnet50_model.compile(\n",
    "    optimizer=keras.optimizers.Adam(learning_rate=0.0001),\n",
    "    loss='binary_crossentropy',\n",
    "    metrics=['accuracy', 'precision', 'recall']\n",
    ")\n",
    "\n",
    "print(\"\\n🎯 ResNet50 Advantages:\")\n",
    "print(\"   - Deeper architecture (50 layers vs VGG16's 16)\")\n",
    "print(\"   - Better feature extraction\")\n",
    "print(\"   - Residual connections prevent vanishing gradients\")"
   ]
  },
  {
   "cell_type": "markdown",
   "id": "1f0fa195-5a71-4c92-884f-832f8334759d",
   "metadata": {},
   "source": [
    " Train ResNet50 Model"
   ]
  },
  {
   "cell_type": "code",
   "execution_count": 8,
   "id": "a55aef00-5cf7-4134-9108-613a8b72ba53",
   "metadata": {},
   "outputs": [
    {
     "name": "stdout",
     "output_type": "stream",
     "text": [
      "🏋️ Training ResNet50 Transfer Learning Model...\n",
      "Found 4173 images belonging to 2 classes.\n",
      "Found 1043 images belonging to 2 classes.\n",
      "📊 Training Info:\n",
      "   Training samples: 4173\n",
      "   Validation samples: 1043\n",
      "   Batch size: 32\n",
      "   Training steps per epoch: 130\n",
      "   Class weights: {0: np.float64(1.9445479962721341), 1: np.float64(0.6730645161290323)}\n",
      "\n",
      "🚀 Starting ResNet50 training...\n"
     ]
    },
    {
     "name": "stderr",
     "output_type": "stream",
     "text": [
      "C:\\Users\\Admin\\anaconda3\\Lib\\site-packages\\keras\\src\\trainers\\data_adapters\\py_dataset_adapter.py:121: UserWarning: Your `PyDataset` class should call `super().__init__(**kwargs)` in its constructor. `**kwargs` can include `workers`, `use_multiprocessing`, `max_queue_size`. Do not pass these arguments to `fit()`, as they will be ignored.\n",
      "  self._warn_if_super_not_called()\n"
     ]
    },
    {
     "name": "stdout",
     "output_type": "stream",
     "text": [
      "Epoch 1/8\n",
      "\u001b[1m130/130\u001b[0m \u001b[32m━━━━━━━━━━━━━━━━━━━━\u001b[0m\u001b[37m\u001b[0m \u001b[1m381s\u001b[0m 3s/step - accuracy: 0.4934 - loss: 0.7917 - precision: 0.7410 - recall: 0.4885 - val_accuracy: 0.7686 - val_loss: 0.6583 - val_precision: 0.7846 - val_recall: 0.9502\n",
      "Epoch 2/8\n",
      "\u001b[1m  1/130\u001b[0m \u001b[37m━━━━━━━━━━━━━━━━━━━━\u001b[0m \u001b[1m4:18\u001b[0m 2s/step - accuracy: 0.5312 - loss: 0.7026 - precision: 0.8571 - recall: 0.4800"
     ]
    },
    {
     "name": "stderr",
     "output_type": "stream",
     "text": [
      "C:\\Users\\Admin\\anaconda3\\Lib\\site-packages\\keras\\src\\trainers\\epoch_iterator.py:116: UserWarning: Your input ran out of data; interrupting training. Make sure that your dataset or generator can generate at least `steps_per_epoch * epochs` batches. You may need to use the `.repeat()` function when building your dataset.\n",
      "  self._interrupted_warning()\n"
     ]
    },
    {
     "name": "stdout",
     "output_type": "stream",
     "text": [
      "\u001b[1m130/130\u001b[0m \u001b[32m━━━━━━━━━━━━━━━━━━━━\u001b[0m\u001b[37m\u001b[0m \u001b[1m71s\u001b[0m 535ms/step - accuracy: 0.5312 - loss: 0.7026 - precision: 0.8571 - recall: 0.4800 - val_accuracy: 0.7578 - val_loss: 0.6508 - val_precision: 0.7641 - val_recall: 0.9764\n",
      "Epoch 3/8\n",
      "\u001b[1m130/130\u001b[0m \u001b[32m━━━━━━━━━━━━━━━━━━━━\u001b[0m\u001b[37m\u001b[0m \u001b[1m360s\u001b[0m 3s/step - accuracy: 0.5448 - loss: 0.7292 - precision: 0.7740 - recall: 0.5481 - val_accuracy: 0.7451 - val_loss: 0.5883 - val_precision: 0.7470 - val_recall: 0.9948\n",
      "Epoch 4/8\n",
      "\u001b[1m130/130\u001b[0m \u001b[32m━━━━━━━━━━━━━━━━━━━━\u001b[0m\u001b[37m\u001b[0m \u001b[1m69s\u001b[0m 520ms/step - accuracy: 0.4688 - loss: 0.9204 - precision: 0.5789 - recall: 0.5500 - val_accuracy: 0.7432 - val_loss: 0.5987 - val_precision: 0.7478 - val_recall: 0.9868\n",
      "Epoch 5/8\n",
      "\u001b[1m130/130\u001b[0m \u001b[32m━━━━━━━━━━━━━━━━━━━━\u001b[0m\u001b[37m\u001b[0m \u001b[1m347s\u001b[0m 3s/step - accuracy: 0.5479 - loss: 0.7069 - precision: 0.7863 - recall: 0.5380 - val_accuracy: 0.7646 - val_loss: 0.5980 - val_precision: 0.7912 - val_recall: 0.9276\n",
      "Epoch 6/8\n",
      "\u001b[1m130/130\u001b[0m \u001b[32m━━━━━━━━━━━━━━━━━━━━\u001b[0m\u001b[37m\u001b[0m \u001b[1m72s\u001b[0m 542ms/step - accuracy: 0.5625 - loss: 0.6893 - precision: 0.7500 - recall: 0.5455 - val_accuracy: 0.7627 - val_loss: 0.5964 - val_precision: 0.7874 - val_recall: 0.9331\n",
      "Epoch 7/8\n",
      "\u001b[1m130/130\u001b[0m \u001b[32m━━━━━━━━━━━━━━━━━━━━\u001b[0m\u001b[37m\u001b[0m \u001b[1m357s\u001b[0m 3s/step - accuracy: 0.5663 - loss: 0.6922 - precision: 0.7956 - recall: 0.5603 - val_accuracy: 0.7578 - val_loss: 0.6271 - val_precision: 0.8968 - val_recall: 0.7628\n",
      "Epoch 8/8\n",
      "\u001b[1m130/130\u001b[0m \u001b[32m━━━━━━━━━━━━━━━━━━━━\u001b[0m\u001b[37m\u001b[0m \u001b[1m69s\u001b[0m 521ms/step - accuracy: 0.4688 - loss: 0.7994 - precision: 0.7143 - recall: 0.4348 - val_accuracy: 0.7500 - val_loss: 0.6270 - val_precision: 0.8920 - val_recall: 0.7565\n",
      "✅ ResNet50 training completed!\n"
     ]
    }
   ],
   "source": [
    "# Train ResNet50 Model\n",
    "print(\"🏋️ Training ResNet50 Transfer Learning Model...\")\n",
    "\n",
    "# Import required libraries\n",
    "from tensorflow.keras.preprocessing.image import ImageDataGenerator\n",
    "from sklearn.utils import class_weight\n",
    "import os\n",
    "import numpy as np\n",
    "\n",
    "# Define all necessary constants\n",
    "IMG_HEIGHT = 224\n",
    "IMG_WIDTH = 224\n",
    "BATCH_SIZE = 32\n",
    "\n",
    "# Dataset path\n",
    "dataset_path = \"C:/Users/Admin/Downloads/pneumonia-detection/chest_xray\"\n",
    "\n",
    "# Data generators\n",
    "train_datagen = ImageDataGenerator(\n",
    "    rescale=1./255,\n",
    "    rotation_range=20,\n",
    "    width_shift_range=0.2,\n",
    "    height_shift_range=0.2,\n",
    "    horizontal_flip=True,\n",
    "    zoom_range=0.2,\n",
    "    validation_split=0.2\n",
    ")\n",
    "\n",
    "val_test_datagen = ImageDataGenerator(rescale=1./255)\n",
    "\n",
    "# Load data\n",
    "train_dir = os.path.join(dataset_path, 'train')\n",
    "test_dir = os.path.join(dataset_path, 'test')\n",
    "\n",
    "train_generator = train_datagen.flow_from_directory(\n",
    "    train_dir,\n",
    "    target_size=(IMG_HEIGHT, IMG_WIDTH),\n",
    "    batch_size=BATCH_SIZE,\n",
    "    class_mode='binary',\n",
    "    subset='training',\n",
    "    shuffle=True,\n",
    "    seed=42\n",
    ")\n",
    "\n",
    "validation_generator = train_datagen.flow_from_directory(\n",
    "    train_dir,\n",
    "    target_size=(IMG_HEIGHT, IMG_WIDTH),\n",
    "    batch_size=BATCH_SIZE,\n",
    "    class_mode='binary',\n",
    "    subset='validation',\n",
    "    shuffle=True,\n",
    "    seed=42\n",
    ")\n",
    "\n",
    "# Calculate steps and class weights\n",
    "train_steps = train_generator.samples // BATCH_SIZE\n",
    "val_steps = validation_generator.samples // BATCH_SIZE\n",
    "\n",
    "class_weights = class_weight.compute_class_weight(\n",
    "    'balanced',\n",
    "    classes=np.unique(train_generator.classes),\n",
    "    y=train_generator.classes\n",
    ")\n",
    "class_weights_dict = {i: weight for i, weight in enumerate(class_weights)}\n",
    "\n",
    "print(f\"📊 Training Info:\")\n",
    "print(f\"   Training samples: {train_generator.samples}\")\n",
    "print(f\"   Validation samples: {validation_generator.samples}\")\n",
    "print(f\"   Batch size: {BATCH_SIZE}\")\n",
    "print(f\"   Training steps per epoch: {train_steps}\")\n",
    "print(f\"   Class weights: {class_weights_dict}\")\n",
    "\n",
    "# Train ResNet50\n",
    "print(\"\\n🚀 Starting ResNet50 training...\")\n",
    "resnet50_history = resnet50_model.fit(\n",
    "    train_generator,\n",
    "    steps_per_epoch=train_steps,\n",
    "    epochs=8,  # Fewer epochs since ResNet50 converges faster\n",
    "    validation_data=validation_generator,\n",
    "    validation_steps=val_steps,\n",
    "    class_weight=class_weights_dict,\n",
    "    verbose=1\n",
    ")\n",
    "\n",
    "print(\"✅ ResNet50 training completed!\")"
   ]
  },
  {
   "cell_type": "markdown",
   "id": "0e7a229a-f8e7-4ed3-9506-5a1dd2af83e6",
   "metadata": {},
   "source": [
    "Comparing All Models"
   ]
  },
  {
   "cell_type": "code",
   "execution_count": 9,
   "id": "878335d3-2e14-4101-9a52-adeb0774020a",
   "metadata": {},
   "outputs": [
    {
     "name": "stdout",
     "output_type": "stream",
     "text": [
      "📊 Comparing All Models...\n",
      "Found 624 images belonging to 2 classes.\n",
      "🧪 Evaluating ResNet50 on test set...\n",
      "\u001b[1m20/20\u001b[0m \u001b[32m━━━━━━━━━━━━━━━━━━━━\u001b[0m\u001b[37m\u001b[0m \u001b[1m41s\u001b[0m 2s/step - accuracy: 0.7837 - loss: 0.6317 - precision: 0.8228 - recall: 0.8333\n",
      "\n",
      "🎯 Model Comparison:\n",
      "          Model  Accuracy  Precision  Recall  F1-Score\n",
      "0  CNN Baseline    0.7324     0.9785  0.5846    0.7319\n",
      "1         VGG16    0.8500     0.9500  0.7500    0.8382\n",
      "2      ResNet50    0.7837     0.8228  0.8333    0.8280\n"
     ]
    },
    {
     "data": {
      "image/png": "[encoded data removed]",
      "text/plain": [
       "<Figure size 1200x800 with 3 Axes>"
      ]
     },
     "metadata": {},
     "output_type": "display_data"
    },
    {
     "name": "stdout",
     "output_type": "stream",
     "text": [
      "\n",
      "🏥 Medical Recommendation:\n",
      "   For medical safety, use ResNet50 (Recall: 83.3%)\n",
      "   Higher recall means fewer missed pneumonia cases!\n"
     ]
    }
   ],
   "source": [
    "#Compare All Models\n",
    "print(\"📊 Comparing All Models...\")\n",
    "\n",
    "import pandas as pd\n",
    "import matplotlib.pyplot as plt\n",
    "from sklearn.metrics import classification_report, confusion_matrix\n",
    "\n",
    "# Load test generator\n",
    "test_generator = val_test_datagen.flow_from_directory(\n",
    "    test_dir,\n",
    "    target_size=(IMG_HEIGHT, IMG_WIDTH),\n",
    "    batch_size=BATCH_SIZE,\n",
    "    class_mode='binary',\n",
    "    shuffle=False\n",
    ")\n",
    "\n",
    "# Evaluate ResNet50\n",
    "print(\"🧪 Evaluating ResNet50 on test set...\")\n",
    "resnet50_test_loss, resnet50_test_accuracy, resnet50_test_precision, resnet50_test_recall = resnet50_model.evaluate(test_generator)\n",
    "\n",
    "# CNN baseline results (from previous phase)\n",
    "cnn_accuracy = 0.7324\n",
    "cnn_precision = 0.9785\n",
    "cnn_recall = 0.5846\n",
    "cnn_f1 = 0.7319\n",
    "\n",
    "# VGG16 results (you'll need to replace these with your actual VGG16 results)\n",
    "# For now, using placeholders - you can update after VGG16 training\n",
    "vgg16_test_accuracy = 0.85  # Replace with your actual VGG16 accuracy\n",
    "vgg16_test_precision = 0.95  # Replace with your actual VGG16 precision  \n",
    "vgg16_test_recall = 0.75  # Replace with your actual VGG16 recall\n",
    "vgg16_test_f1 = 2 * (vgg16_test_precision * vgg16_test_recall) / (vgg16_test_precision + vgg16_test_recall)\n",
    "\n",
    "# Create comparison table\n",
    "comparison_data = {\n",
    "    'Model': ['CNN Baseline', 'VGG16', 'ResNet50'],\n",
    "    'Accuracy': [cnn_accuracy, vgg16_test_accuracy, resnet50_test_accuracy],\n",
    "    'Precision': [cnn_precision, vgg16_test_precision, resnet50_test_precision],\n",
    "    'Recall': [cnn_recall, vgg16_test_recall, resnet50_test_recall],\n",
    "    'F1-Score': [cnn_f1, vgg16_test_f1, \n",
    "                 2 * (resnet50_test_precision * resnet50_test_recall) / (resnet50_test_precision + resnet50_test_recall)]\n",
    "}\n",
    "\n",
    "comparison_df = pd.DataFrame(comparison_data)\n",
    "print(\"\\n🎯 Model Comparison:\")\n",
    "print(comparison_df.round(4))\n",
    "\n",
    "# Visual comparison\n",
    "plt.figure(figsize=(12, 8))\n",
    "\n",
    "# Plot 1: Accuracy and Recall comparison\n",
    "plt.subplot(2, 2, 1)\n",
    "x = range(len(comparison_df))\n",
    "width = 0.35\n",
    "plt.bar(x, comparison_df['Accuracy'], width, label='Accuracy', alpha=0.7)\n",
    "plt.bar([i + width for i in x], comparison_df['Recall'], width, label='Recall', alpha=0.7)\n",
    "plt.xlabel('Models')\n",
    "plt.ylabel('Score')\n",
    "plt.title('Accuracy vs Recall Comparison')\n",
    "plt.xticks([i + width/2 for i in x], comparison_df['Model'])\n",
    "plt.legend()\n",
    "plt.grid(True, alpha=0.3)\n",
    "\n",
    "# Plot 2: F1-Score comparison\n",
    "plt.subplot(2, 2, 2)\n",
    "plt.bar(comparison_df['Model'], comparison_df['F1-Score'], color=['blue', 'orange', 'green'], alpha=0.7)\n",
    "plt.xlabel('Models')\n",
    "plt.ylabel('F1-Score')\n",
    "plt.title('F1-Score Comparison (Balance)')\n",
    "plt.grid(True, alpha=0.3)\n",
    "\n",
    "# Plot 3: Medical focus - Recall improvement\n",
    "plt.subplot(2, 2, 3)\n",
    "recall_improvement = [0, \n",
    "                     comparison_df['Recall'][1] - comparison_df['Recall'][0],\n",
    "                     comparison_df['Recall'][2] - comparison_df['Recall'][0]]\n",
    "plt.bar(comparison_df['Model'], recall_improvement, color=['gray', 'green', 'darkgreen'], alpha=0.7)\n",
    "plt.xlabel('Models')\n",
    "plt.ylabel('Recall Improvement')\n",
    "plt.title('Recall Improvement Over Baseline')\n",
    "plt.grid(True, alpha=0.3)\n",
    "\n",
    "plt.tight_layout()\n",
    "plt.show()\n",
    "\n",
    "print(\"\\n🏥 Medical Recommendation:\")\n",
    "best_recall_model = comparison_df.loc[comparison_df['Recall'].idxmax(), 'Model']\n",
    "best_recall_value = comparison_df.loc[comparison_df['Recall'].idxmax(), 'Recall']\n",
    "print(f\"   For medical safety, use {best_recall_model} (Recall: {best_recall_value:.1%})\")\n",
    "print(\"   Higher recall means fewer missed pneumonia cases!\")"
   ]
  },
  {
   "cell_type": "markdown",
   "id": "7145d938-ba2f-42e3-b1eb-25e67eb9e320",
   "metadata": {},
   "source": [
    "Fixing the model"
   ]
  },
  {
   "cell_type": "code",
   "execution_count": 10,
   "id": "9c4449b1-9235-4702-a258-f289856714ae",
   "metadata": {},
   "outputs": [
    {
     "name": "stderr",
     "output_type": "stream",
     "text": [
      "WARNING:absl:You are saving your model as an HDF5 file via `model.save()` or `keras.saving.save_model(model)`. This file format is considered legacy. We recommend using instead the native Keras format, e.g. `model.save('my_model.keras')` or `keras.saving.save_model(model, 'my_model.keras')`. \n"
     ]
    },
    {
     "name": "stdout",
     "output_type": "stream",
     "text": [
      "🔧 Fixing model file issue...\n",
      "📁 Checking available models...\n",
      "Available model files: ['.ipynb_checkpoints', 'resnet50_pneumonia.h5', 'training_history.json']\n",
      "💾 Attempting to save ResNet50 model...\n",
      "✅ ResNet50 model saved successfully!\n"
     ]
    },
    {
     "name": "stderr",
     "output_type": "stream",
     "text": [
      "WARNING:absl:Compiled the loaded model, but the compiled metrics have yet to be built. `model.compile_metrics` will be empty until you train or evaluate the model.\n"
     ]
    },
    {
     "name": "stdout",
     "output_type": "stream",
     "text": [
      "✅ Model can be loaded without errors!\n",
      "\n",
      "🔄 Setting up backup with CNN model...\n",
      "❌ Backup model also has issues: [Errno 2] Unable to synchronously open file (unable to open file: name = 'models/cnn_pneumonia_detector.h5', errno = 2, error message = 'No such file or directory', flags = 0, o_flags = 0)\n"
     ]
    }
   ],
   "source": [
    "# Fix Model File Issue\n",
    "print(\"🔧 Fixing model file issue...\")\n",
    "\n",
    "import os\n",
    "import tensorflow as tf\n",
    "\n",
    "# Create models directory if it doesn't exist\n",
    "os.makedirs('models', exist_ok=True)\n",
    "\n",
    "print(\"📁 Checking available models...\")\n",
    "\n",
    "# List what models we have\n",
    "model_files = os.listdir('models')\n",
    "print(f\"Available model files: {model_files}\")\n",
    "\n",
    "# Option 1: Try to save ResNet50 model again\n",
    "try:\n",
    "    print(\"💾 Attempting to save ResNet50 model...\")\n",
    "    resnet50_model.save('models/resnet50_pneumonia_fixed.h5')\n",
    "    print(\"✅ ResNet50 model saved successfully!\")\n",
    "    \n",
    "    # Test if it can be loaded\n",
    "    test_model = tf.keras.models.load_model('models/resnet50_pneumonia_fixed.h5')\n",
    "    print(\"✅ Model can be loaded without errors!\")\n",
    "    \n",
    "except Exception as e:\n",
    "    print(f\"❌ Error with ResNet50: {e}\")\n",
    "\n",
    "# Option 2: Use the working CNN model as backup\n",
    "try:\n",
    "    print(\"\\n🔄 Setting up backup with CNN model...\")\n",
    "    # We know cnn_pneumonia_detector.h5 works\n",
    "    backup_model = tf.keras.models.load_model('models/cnn_pneumonia_detector.h5')\n",
    "    print(\"✅ CNN backup model loaded successfully!\")\n",
    "    \n",
    "except Exception as e:\n",
    "    print(f\"❌ Backup model also has issues: {e}\")"
   ]
  }
 ],
 "metadata": {
  "kernelspec": {
   "display_name": "Python 3 (ipykernel)",
   "language": "python",
   "name": "python3"
  },
  "language_info": {
   "codemirror_mode": {
    "name": "ipython",
    "version": 3
   },
   "file_extension": ".py",
   "mimetype": "text/x-python",
   "name": "python",
   "nbconvert_exporter": "python",
   "pygments_lexer": "ipython3",
   "version": "3.13.5"
  }
 },
 "nbformat": 4,
 "nbformat_minor": 5
}
